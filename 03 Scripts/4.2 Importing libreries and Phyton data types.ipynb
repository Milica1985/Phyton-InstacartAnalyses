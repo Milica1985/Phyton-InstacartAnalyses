{
 "cells": [
  {
   "cell_type": "markdown",
   "id": "af2075be",
   "metadata": {},
   "source": [
    "# 01. Importing libraries"
   ]
  },
  {
   "cell_type": "code",
   "execution_count": 1,
   "id": "2b06db38",
   "metadata": {},
   "outputs": [],
   "source": [
    "# Importing libraries\n",
    "import pandas as pd\n",
    "import numpy as np\n",
    "import os"
   ]
  },
  {
   "cell_type": "markdown",
   "id": "7ea41f0c",
   "metadata": {},
   "source": [
    "02. Data Types"
   ]
  },
  {
   "cell_type": "code",
   "execution_count": 2,
   "id": "70237820",
   "metadata": {},
   "outputs": [],
   "source": [
    "x=25"
   ]
  },
  {
   "cell_type": "code",
   "execution_count": 3,
   "id": "4cf1e4aa",
   "metadata": {},
   "outputs": [
    {
     "data": {
      "text/plain": [
       "100"
      ]
     },
     "execution_count": 3,
     "metadata": {},
     "output_type": "execute_result"
    }
   ],
   "source": [
    "x*4"
   ]
  },
  {
   "cell_type": "code",
   "execution_count": 4,
   "id": "cd09c42f",
   "metadata": {},
   "outputs": [],
   "source": [
    "b=8"
   ]
  },
  {
   "cell_type": "code",
   "execution_count": 5,
   "id": "abf5599c",
   "metadata": {},
   "outputs": [],
   "source": [
    "c=2"
   ]
  },
  {
   "cell_type": "code",
   "execution_count": 6,
   "id": "0bfe4974",
   "metadata": {},
   "outputs": [
    {
     "data": {
      "text/plain": [
       "100.0"
      ]
     },
     "execution_count": 6,
     "metadata": {},
     "output_type": "execute_result"
    }
   ],
   "source": [
    "(x*8)/2"
   ]
  },
  {
   "cell_type": "code",
   "execution_count": 7,
   "id": "5632388c",
   "metadata": {},
   "outputs": [],
   "source": [
    "d=10"
   ]
  },
  {
   "cell_type": "code",
   "execution_count": 8,
   "id": "422e1abe",
   "metadata": {},
   "outputs": [
    {
     "data": {
      "text/plain": [
       "100"
      ]
     },
     "execution_count": 8,
     "metadata": {},
     "output_type": "execute_result"
    }
   ],
   "source": [
    "d*d"
   ]
  },
  {
   "cell_type": "markdown",
   "id": "6625dcb4",
   "metadata": {},
   "source": [
    "Floating Data Type"
   ]
  },
  {
   "cell_type": "code",
   "execution_count": 11,
   "id": "0e79b955",
   "metadata": {},
   "outputs": [],
   "source": [
    "z=2.345"
   ]
  },
  {
   "cell_type": "code",
   "execution_count": 12,
   "id": "10aba419",
   "metadata": {},
   "outputs": [
    {
     "name": "stdout",
     "output_type": "stream",
     "text": [
      "2.345\n"
     ]
    }
   ],
   "source": [
    "print(z)"
   ]
  },
  {
   "cell_type": "code",
   "execution_count": 13,
   "id": "945d489c",
   "metadata": {},
   "outputs": [],
   "source": [
    "y=4.567"
   ]
  },
  {
   "cell_type": "code",
   "execution_count": 14,
   "id": "c09bfe6c",
   "metadata": {},
   "outputs": [
    {
     "name": "stdout",
     "output_type": "stream",
     "text": [
      "4.567\n"
     ]
    }
   ],
   "source": [
    "print(y)"
   ]
  },
  {
   "cell_type": "code",
   "execution_count": 15,
   "id": "7bb73a99",
   "metadata": {},
   "outputs": [
    {
     "data": {
      "text/plain": [
       "1.947547974413646"
      ]
     },
     "execution_count": 15,
     "metadata": {},
     "output_type": "execute_result"
    }
   ],
   "source": [
    "y/z"
   ]
  },
  {
   "cell_type": "code",
   "execution_count": 16,
   "id": "99e7a640",
   "metadata": {},
   "outputs": [
    {
     "data": {
      "text/plain": [
       "float"
      ]
     },
     "execution_count": 16,
     "metadata": {},
     "output_type": "execute_result"
    }
   ],
   "source": [
    "type(z)"
   ]
  },
  {
   "cell_type": "code",
   "execution_count": 17,
   "id": "d1e9bae2",
   "metadata": {},
   "outputs": [
    {
     "data": {
      "text/plain": [
       "float"
      ]
     },
     "execution_count": 17,
     "metadata": {},
     "output_type": "execute_result"
    }
   ],
   "source": [
    "type(y)"
   ]
  },
  {
   "cell_type": "code",
   "execution_count": 18,
   "id": "ae3f2029",
   "metadata": {},
   "outputs": [
    {
     "data": {
      "text/plain": [
       "False"
      ]
     },
     "execution_count": 18,
     "metadata": {},
     "output_type": "execute_result"
    }
   ],
   "source": [
    "(z==y)"
   ]
  },
  {
   "cell_type": "markdown",
   "id": "ebe81b0e",
   "metadata": {},
   "source": [
    "Constract Short Word"
   ]
  },
  {
   "cell_type": "code",
   "execution_count": 32,
   "id": "3a49ff9e",
   "metadata": {},
   "outputs": [],
   "source": [
    "co='c'\n"
   ]
  },
  {
   "cell_type": "code",
   "execution_count": 33,
   "id": "c55d0f83",
   "metadata": {},
   "outputs": [],
   "source": [
    "o='o'"
   ]
  },
  {
   "cell_type": "code",
   "execution_count": 34,
   "id": "60933e25",
   "metadata": {},
   "outputs": [],
   "source": [
    "f='f'"
   ]
  },
  {
   "cell_type": "code",
   "execution_count": 35,
   "id": "5db2d094",
   "metadata": {},
   "outputs": [],
   "source": [
    "e='e'"
   ]
  },
  {
   "cell_type": "code",
   "execution_count": 36,
   "id": "9f4cd30c",
   "metadata": {},
   "outputs": [
    {
     "data": {
      "text/plain": [
       "'coffee'"
      ]
     },
     "execution_count": 36,
     "metadata": {},
     "output_type": "execute_result"
    }
   ],
   "source": [
    "co+o+f+f+e+e"
   ]
  },
  {
   "cell_type": "markdown",
   "id": "f29d0a22",
   "metadata": {},
   "source": [
    "Constract two short sentences "
   ]
  },
  {
   "cell_type": "code",
   "execution_count": 88,
   "id": "9aeb2c53",
   "metadata": {},
   "outputs": [],
   "source": [
    "a='Can '"
   ]
  },
  {
   "cell_type": "code",
   "execution_count": 57,
   "id": "131a8159",
   "metadata": {},
   "outputs": [],
   "source": [
    "i='I '"
   ]
  },
  {
   "cell_type": "code",
   "execution_count": 58,
   "id": "afe61ebb",
   "metadata": {},
   "outputs": [],
   "source": [
    "h='have '"
   ]
  },
  {
   "cell_type": "code",
   "execution_count": 59,
   "id": "5c207d0b",
   "metadata": {},
   "outputs": [],
   "source": [
    "am='americano '"
   ]
  },
  {
   "cell_type": "code",
   "execution_count": 60,
   "id": "3c25e208",
   "metadata": {},
   "outputs": [],
   "source": [
    "m='misto '"
   ]
  },
  {
   "cell_type": "code",
   "execution_count": 89,
   "id": "1f8f5a3d",
   "metadata": {},
   "outputs": [],
   "source": [
    "sentences = a+i+h+am+m"
   ]
  },
  {
   "cell_type": "code",
   "execution_count": 90,
   "id": "a325dab1",
   "metadata": {},
   "outputs": [
    {
     "name": "stdout",
     "output_type": "stream",
     "text": [
      "Can I have americano misto \n"
     ]
    }
   ],
   "source": [
    "print(sentences)"
   ]
  },
  {
   "cell_type": "code",
   "execution_count": 69,
   "id": "0a13dfc1",
   "metadata": {},
   "outputs": [],
   "source": [
    "q= ' Hello,'"
   ]
  },
  {
   "cell_type": "code",
   "execution_count": 84,
   "id": "ddf28cec",
   "metadata": {},
   "outputs": [],
   "source": [
    "w= 'Tanya!'"
   ]
  },
  {
   "cell_type": "code",
   "execution_count": 85,
   "id": "5a9e4334",
   "metadata": {},
   "outputs": [],
   "source": [
    "two_words = q+w"
   ]
  },
  {
   "cell_type": "code",
   "execution_count": 93,
   "id": "37b4dfaa",
   "metadata": {},
   "outputs": [],
   "source": [
    "solution = two_words  +  sentences "
   ]
  },
  {
   "cell_type": "code",
   "execution_count": 94,
   "id": "8b5798b4",
   "metadata": {},
   "outputs": [
    {
     "name": "stdout",
     "output_type": "stream",
     "text": [
      " Hello,Tanya!Can I have americano misto \n"
     ]
    }
   ],
   "source": [
    "print(solution)"
   ]
  },
  {
   "cell_type": "code",
   "execution_count": null,
   "id": "6c475c67",
   "metadata": {},
   "outputs": [],
   "source": []
  }
 ],
 "metadata": {
  "kernelspec": {
   "display_name": "Python 3 (ipykernel)",
   "language": "python",
   "name": "python3"
  },
  "language_info": {
   "codemirror_mode": {
    "name": "ipython",
    "version": 3
   },
   "file_extension": ".py",
   "mimetype": "text/x-python",
   "name": "python",
   "nbconvert_exporter": "python",
   "pygments_lexer": "ipython3",
   "version": "3.11.5"
  }
 },
 "nbformat": 4,
 "nbformat_minor": 5
}
